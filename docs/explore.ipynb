{
 "cells": [
  {
   "cell_type": "code",
   "execution_count": 2,
   "metadata": {},
   "outputs": [],
   "source": [
    "import numpy as np\n",
    "import matplotlib.pyplot as plt"
   ]
  },
  {
   "cell_type": "markdown",
   "metadata": {},
   "source": [
    "## Creating Subsitution Matrix"
   ]
  },
  {
   "cell_type": "code",
   "execution_count": 2,
   "metadata": {},
   "outputs": [
    {
     "data": {
      "text/plain": [
       "array([124, 203,  90,  83,  14, 107,  22,  39,  20, 206,  45,   8,  24,\n",
       "       191, 247,  43, 193,  58,   9, 110, 181, 211, 167, 132,  92,  73,\n",
       "        68,  46, 213, 230,  97, 153, 123,  71, 114, 221, 163, 104,  23,\n",
       "        47,  10, 190,  82,  12, 239, 133,  74, 245,  63, 228, 188, 220,\n",
       "       209,  64, 238,  89, 229,  98, 137, 253, 159, 139, 105, 158, 121,\n",
       "       166, 126,  37, 235, 233,  84, 224,  21,  99,  40, 248,  67, 201,\n",
       "        27, 249, 161,  54,   3,   2, 219, 148,  44,  48, 171, 117,  94,\n",
       "        34, 254, 177,  66,  75,  18,  88, 222,  77, 175, 179,  80, 204,\n",
       "       187, 176, 115,  53, 170, 108, 130, 202, 165,  35, 162, 225, 214,\n",
       "       128, 129, 127, 244,  79, 169,  25, 140, 183, 192,  30, 155,  69,\n",
       "       189,  56, 160, 227, 113, 243,  78, 223, 102,  41,  36,   1, 147,\n",
       "        16, 103, 109,  15, 242, 196, 142, 236, 240, 207,  31, 215,   6,\n",
       "        32, 234, 134,  81, 241,  91, 232, 200, 164, 186, 135,  59,  70,\n",
       "        65,  50,  38,  26,  19, 226,  87,  60, 149, 120, 141, 210, 118,\n",
       "       173, 231, 101, 237, 116,  57, 185, 218,  86, 150, 251, 180, 217,\n",
       "       111, 184, 143, 119,  95,  85,  11,  13, 112, 246, 255, 197, 216,\n",
       "        76, 250,  51, 144, 122,  49, 106,  61, 195, 199, 100, 174, 208,\n",
       "       151,   5,   7,   0, 125, 182, 252, 156, 194,  55, 178, 212,  42,\n",
       "        33,  62,  52, 146,  72, 157,  93, 136, 205, 138, 152, 168,  96,\n",
       "       131, 198, 172,   4, 154,  28, 145,  29,  17], dtype=uint8)"
      ]
     },
     "execution_count": 2,
     "metadata": {},
     "output_type": "execute_result"
    }
   ],
   "source": [
    "sbox = np.array([i for i in range(256)], dtype=np.uint8)\n",
    "np.random.shuffle(sbox)\n",
    "sbox"
   ]
  },
  {
   "cell_type": "code",
   "execution_count": 3,
   "metadata": {},
   "outputs": [],
   "source": [
    "sbox_inv = np.zeros(256, dtype=np.uint8)\n",
    "for i in range(256):\n",
    "    sbox_inv[sbox[i]] = i"
   ]
  },
  {
   "cell_type": "code",
   "execution_count": 4,
   "metadata": {},
   "outputs": [
    {
     "data": {
      "text/plain": [
       "array([224, 141,  83,  82, 250, 222, 155, 223,  11,  18,  40, 201,  43,\n",
       "       202,   4, 146, 143, 255,  96, 173,   8,  72,   6,  38,  12, 123,\n",
       "       172,  78, 252, 254, 127, 153, 156, 234,  91, 113, 140,  67, 171,\n",
       "         7,  74, 139, 233,  15,  86,  10,  27,  39,  87, 213, 170, 210,\n",
       "       236, 107,  81, 230, 131, 187,  17, 167, 176, 215, 235,  48,  53,\n",
       "       169,  94,  76,  26, 129, 168,  33, 238,  25,  46,  95, 208,  99,\n",
       "       136, 121, 102, 159,  42,   3,  70, 200, 190, 175,  97,  55,   2,\n",
       "       161,  24, 240,  90, 199, 246,  30,  57,  73, 218, 184, 138, 144,\n",
       "        37,  62, 214,   5, 109, 145,  19, 195, 203, 134,  34, 106, 186,\n",
       "        89, 181, 198, 178,  64, 212,  32,   0, 225,  66, 119, 117, 118,\n",
       "       110, 247,  23,  45, 158, 166, 241,  58, 243,  61, 124, 179, 149,\n",
       "       197, 211, 253, 237, 142,  85, 177, 191, 221, 244,  31, 251, 128,\n",
       "       228, 239,  63,  60, 132,  80, 114,  36, 164, 112,  65,  22, 245,\n",
       "       122, 108,  88, 249, 182, 219, 100, 105,  93, 231, 101, 193,  20,\n",
       "       226, 125, 196, 188, 165, 104,  50, 130,  41,  13, 126,  16, 229,\n",
       "       216, 148, 206, 248, 217, 163,  77, 111,   1, 103, 242,   9, 152,\n",
       "       220,  52, 180,  21, 232,  28, 116, 154, 207, 194, 189,  84,  51,\n",
       "        35,  98, 137,  71, 115, 174, 133,  49,  56,  29, 183, 162,  69,\n",
       "       157,  68, 150, 185,  54,  44, 151, 160, 147, 135, 120,  47, 204,\n",
       "        14,  75,  79, 209, 192, 227,  59,  92, 205], dtype=uint8)"
      ]
     },
     "execution_count": 4,
     "metadata": {},
     "output_type": "execute_result"
    }
   ],
   "source": [
    "sbox_inv"
   ]
  },
  {
   "cell_type": "markdown",
   "metadata": {},
   "source": [
    "## Creating Permutation Matrix"
   ]
  },
  {
   "cell_type": "code",
   "execution_count": 5,
   "metadata": {},
   "outputs": [
    {
     "data": {
      "text/plain": [
       "array([126,  98,  87,   4,   8, 110,  73,  48, 108,  92,  40,  76, 118,\n",
       "        14,  78, 115,  85, 119,  27,  74, 101,  28,   9, 125,  94,  13,\n",
       "       107,  56,  93,  15,  63, 112,   1,  52,  90,  20,  43,  60,  95,\n",
       "        91,  46,  88,  12,  39,  22, 121, 122,  38,  31,  26,  72, 116,\n",
       "        99,  80, 104,  24,  23,  25,  70,  33,  96,  68,  21,  69,  16,\n",
       "       117,  82, 120,  36,  84,  75, 100, 113,   5,  86,   2,   7,  11,\n",
       "        53,  42,  71,  61,  83,   0,  65,  62,  54,  66, 127,  17,  41,\n",
       "        64,  79, 106,  45,   3,  10, 123,  77,  30,  89,  97,  51,  58,\n",
       "        47,  44, 124,   6, 103,  19, 105, 109,  35, 102,  59,  34, 114,\n",
       "        57,  49, 111,  55,  32,  37,  67,  18,  50,  81,  29], dtype=uint8)"
      ]
     },
     "execution_count": 5,
     "metadata": {},
     "output_type": "execute_result"
    }
   ],
   "source": [
    "pbox1 = np.array([i for i in range(128)], dtype=np.uint8)\n",
    "np.random.shuffle(pbox1)\n",
    "pbox1"
   ]
  },
  {
   "cell_type": "code",
   "execution_count": 6,
   "metadata": {},
   "outputs": [
    {
     "data": {
      "text/plain": [
       "array([ 83,  32,  75,  95,   3,  73, 107,  76,   4,  22,  96,  77,  42,\n",
       "        25,  13,  29,  64,  89, 124, 109,  35,  62,  44,  56,  55,  57,\n",
       "        49,  18,  21, 127,  99,  48, 121,  59, 115, 112,  68, 122,  47,\n",
       "        43,  10,  90,  79,  36, 105,  94,  40, 104,   7, 118, 125, 102,\n",
       "        33,  78,  86, 120,  27, 117, 103, 114,  37,  81,  85,  30,  91,\n",
       "        84,  87, 123,  61,  63,  58,  80,  50,   6,  19,  70,  11,  98,\n",
       "        14,  92,  53, 126,  66,  82,  69,  16,  74,   2,  41, 100,  34,\n",
       "        39,   9,  28,  24,  38,  60, 101,   1,  52,  71,  20, 113, 108,\n",
       "        54, 110,  93,  26,   8, 111,   5, 119,  31,  72, 116,  15,  51,\n",
       "        65,  12,  17,  67,  45,  46,  97, 106,  23,   0,  88], dtype=uint8)"
      ]
     },
     "execution_count": 6,
     "metadata": {},
     "output_type": "execute_result"
    }
   ],
   "source": [
    "pbox1_inv = np.zeros(128, dtype=np.uint8)\n",
    "for i in range(128):\n",
    "    pbox1_inv[pbox1[i]] = i\n",
    "pbox1_inv"
   ]
  },
  {
   "cell_type": "code",
   "execution_count": 7,
   "metadata": {},
   "outputs": [
    {
     "data": {
      "text/plain": [
       "array([ 28,  39,  80,  32,  54, 106,  73, 118,  61, 127,  17,  70,  79,\n",
       "        40, 113,  86,  34,  10,  52,  94, 109,   9, 117,  93,  36,  63,\n",
       "         6,  29,  92,  85,  53,  69,   0, 126,  47,  38,  26,  81, 114,\n",
       "        55,  59, 116,  16,  42,  83,  41,  43,  82,  23,   4,  78,  22,\n",
       "        91,  71,  60,  64,  37,  30,  96,  21,  33,  58,  49,  48,  18,\n",
       "         7, 121,  89, 122,  98,   3, 123,  77,  44,  35, 111,  72,  20,\n",
       "       124,  51,  25,  15,  99,  12,  65, 112,  67,  88, 120,  45,  97,\n",
       "        27,  75, 107,  19,  87,  57,   8, 104,  13, 102,  56,  68,  46,\n",
       "        14,  95, 119,  76,  50,  24, 115,   2,  90,   5, 103,  31,  84,\n",
       "       105, 108, 125,   1,  74,  66, 100,  62,  11, 110, 101], dtype=uint8)"
      ]
     },
     "execution_count": 7,
     "metadata": {},
     "output_type": "execute_result"
    }
   ],
   "source": [
    "pbox2 = np.array([i for i in range(128)], dtype=np.uint8)\n",
    "np.random.shuffle(pbox2)\n",
    "pbox2"
   ]
  },
  {
   "cell_type": "code",
   "execution_count": 8,
   "metadata": {},
   "outputs": [
    {
     "data": {
      "text/plain": [
       "array([ 32, 120, 111,  70,  49, 113,  26,  65,  97,  21,  17, 125,  83,\n",
       "        99, 104,  81,  42,  10,  64,  94,  77,  59,  51,  48, 109,  80,\n",
       "        36,  91,   0,  27,  57, 115,   3,  60,  16,  74,  24,  56,  35,\n",
       "         1,  13,  45,  43,  46,  73,  89, 103,  34,  63,  62, 108,  79,\n",
       "        18,  30,   4,  39, 101,  96,  61,  40,  54,   8, 124,  25,  55,\n",
       "        84, 122,  86, 102,  31,  11,  53,  76,   6, 121,  92, 107,  72,\n",
       "        50,  12,   2,  37,  47,  44, 116,  29,  15,  95,  87,  67, 112,\n",
       "        52,  28,  23,  19, 105,  58,  90,  69,  82, 123, 127, 100, 114,\n",
       "        98, 117,   5,  93, 118,  20, 126,  75,  85,  14,  38, 110,  41,\n",
       "        22,   7, 106,  88,  66,  68,  71,  78, 119,  33,   9], dtype=uint8)"
      ]
     },
     "execution_count": 8,
     "metadata": {},
     "output_type": "execute_result"
    }
   ],
   "source": [
    "pbox2_inv = np.zeros(128, dtype=np.uint8)\n",
    "for i in range(128):\n",
    "    pbox2_inv[pbox2[i]] = i\n",
    "pbox2_inv"
   ]
  },
  {
   "cell_type": "code",
   "execution_count": 3,
   "metadata": {},
   "outputs": [
    {
     "data": {
      "text/plain": [
       "array([ 1,  4,  9, 11,  8, 15,  6,  5,  0, 10, 14,  2,  3, 12, 13,  7],\n",
       "      dtype=uint8)"
      ]
     },
     "execution_count": 3,
     "metadata": {},
     "output_type": "execute_result"
    }
   ],
   "source": [
    "pbox3 = np.array([i for i in range(16)], dtype=np.uint8)\n",
    "np.random.shuffle(pbox3)\n",
    "pbox3"
   ]
  },
  {
   "cell_type": "code",
   "execution_count": 4,
   "metadata": {},
   "outputs": [
    {
     "data": {
      "text/plain": [
       "array([ 8,  0, 11, 12,  1,  7,  6, 15,  4,  2,  9,  3, 13, 14, 10,  5],\n",
       "      dtype=uint8)"
      ]
     },
     "execution_count": 4,
     "metadata": {},
     "output_type": "execute_result"
    }
   ],
   "source": [
    "pbox3_inv = np.zeros(16, dtype=np.uint8)\n",
    "for i in range(16):\n",
    "    pbox3_inv[pbox3[i]] = i\n",
    "pbox3_inv"
   ]
  },
  {
   "cell_type": "code",
   "execution_count": 32,
   "metadata": {},
   "outputs": [
    {
     "data": {
      "text/plain": [
       "array([ 96, 235,  99, 214,   8, 129, 193, 231, 124, 102, 158, 134, 164,\n",
       "       108, 154,  93], dtype=uint8)"
      ]
     },
     "execution_count": 32,
     "metadata": {},
     "output_type": "execute_result"
    }
   ],
   "source": [
    "adder = np.array([np.random.randint(0,256) for i in range(16)], dtype=np.uint8)\n",
    "np.random.shuffle(adder)\n",
    "adder"
   ]
  },
  {
   "cell_type": "markdown",
   "metadata": {},
   "source": [
    "## Generating Random 4x4"
   ]
  },
  {
   "cell_type": "code",
   "execution_count": 9,
   "metadata": {},
   "outputs": [
    {
     "data": {
      "text/plain": [
       "array([[ 90,  97,  64,  16],\n",
       "       [ 30,  20,  46,  54],\n",
       "       [204, 131,  13,   6],\n",
       "       [160,  47,  40,  26]])"
      ]
     },
     "execution_count": 9,
     "metadata": {},
     "output_type": "execute_result"
    }
   ],
   "source": [
    "val1 = np.array([np.random.randint(0,255) for i in range(12)]).reshape(4,3)\n",
    "val2 = np.array([np.random.randint(0,255) for i in range(12)]).reshape(3,4)\n",
    "\n",
    "m = np.matmul(val1, val2) % 256\n",
    "\n",
    "minimum = m\n",
    "\n",
    "for i in range(10000):\n",
    "    val1 = np.array([np.random.randint(0,255) for i in range(12)]).reshape(4,3)\n",
    "    val2 = np.array([np.random.randint(0,255) for i in range(12)]).reshape(3,4)\n",
    "    m = np.matmul(val1, val2) % 256\n",
    "    if np.sum(m) < np.sum(minimum):\n",
    "        minimum = m\n",
    "\n",
    "m = minimum\n",
    "m"
   ]
  },
  {
   "cell_type": "code",
   "execution_count": 10,
   "metadata": {},
   "outputs": [
    {
     "data": {
      "text/plain": [
       "0.0"
      ]
     },
     "execution_count": 10,
     "metadata": {},
     "output_type": "execute_result"
    }
   ],
   "source": [
    "np.round(np.linalg.det(m)) % 256"
   ]
  },
  {
   "cell_type": "code",
   "execution_count": 11,
   "metadata": {},
   "outputs": [
    {
     "name": "stdout",
     "output_type": "stream",
     "text": [
      "[[163 220 176  26]\n",
      " [ 62  14 228 226]\n",
      " [247  61 156 225]\n",
      " [ 99  84 124 134]]\n",
      "[[188  38   4 102]\n",
      " [ 54 142 160 102]\n",
      " [123 139 192 239]\n",
      " [232  34 212 130]]\n",
      "[[206  10  72  98]\n",
      " [ 74 178  48  74]\n",
      " [ 33 205 200 169]\n",
      " [ 50 254 104   6]]\n",
      "[[214  22   0  30]\n",
      " [102 126  16 230]\n",
      " [223 107 136 175]\n",
      " [146 194 160 218]]\n",
      "[[194  90  16  18]\n",
      " [234 146 112 234]\n",
      " [121 253 216 153]\n",
      " [ 38  78 112 118]]\n",
      "[[126  22  16 158]\n",
      " [198 222  16 198]\n",
      " [ 95  27 168 159]\n",
      " [250 130 176  26]]\n",
      "[[178 186 176 242]\n",
      " [ 10  50 112  10]\n",
      " [105 141 152 233]\n",
      " [ 86 238  16 150]]\n"
     ]
    }
   ],
   "source": [
    "test = np.array([np.random.randint(0,255) for i in range(16)]).reshape(4,4)\n",
    "\n",
    "data = []\n",
    "for i in range(7):\n",
    "  test = np.matmul(m, test) % 256\n",
    "  print(test)"
   ]
  },
  {
   "cell_type": "code",
   "execution_count": null,
   "metadata": {},
   "outputs": [],
   "source": []
  },
  {
   "cell_type": "code",
   "execution_count": null,
   "metadata": {},
   "outputs": [],
   "source": []
  }
 ],
 "metadata": {
  "kernelspec": {
   "display_name": "Python 3",
   "language": "python",
   "name": "python3"
  },
  "language_info": {
   "codemirror_mode": {
    "name": "ipython",
    "version": 3
   },
   "file_extension": ".py",
   "mimetype": "text/x-python",
   "name": "python",
   "nbconvert_exporter": "python",
   "pygments_lexer": "ipython3",
   "version": "3.12.2"
  }
 },
 "nbformat": 4,
 "nbformat_minor": 2
}
